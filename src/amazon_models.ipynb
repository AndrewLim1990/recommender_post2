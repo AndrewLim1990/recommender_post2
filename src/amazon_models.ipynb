{
 "cells": [
  {
   "cell_type": "markdown",
   "metadata": {},
   "source": [
    "# Using Real Movie Data from Amazon\n",
    "\n",
    "In this blog post, I will be explore the use of a collaborative filtering algorithm on a real movie dataset."
   ]
  },
  {
   "cell_type": "markdown",
   "metadata": {},
   "source": [
    "### Problem Description:\n",
    "\n",
    "As discussed in my last post, we can make a recommender system using a collaborative filtering algorithm. This algorithm will use data obtained from [here](http://jmcauley.ucsd.edu/data/amazon/). Big thanks to Julian for giving me access to this data!"
   ]
  },
  {
   "cell_type": "markdown",
   "metadata": {},
   "source": [
    "### Initialization:\n",
    "\n",
    "First, we will need to load appropriate libraries and do a little light wrangling."
   ]
  },
  {
   "cell_type": "code",
   "execution_count": 1,
   "metadata": {
    "collapsed": false
   },
   "outputs": [
    {
     "name": "stderr",
     "output_type": "stream",
     "text": [
      "Using TensorFlow backend.\n"
     ]
    }
   ],
   "source": [
    "# Importing\n",
    "import feather\n",
    "import pandas as pd\n",
    "import numpy as np\n",
    "from scipy.sparse import coo_matrix\n",
    "from sklearn.decomposition import TruncatedSVD\n",
    "from keras import backend as k\n",
    "from scipy.optimize import minimize\n",
    "import matplotlib.pyplot as plt\n",
    "from sklearn.cluster import KMeans\n",
    "from sklearn.utils import shuffle"
   ]
  },
  {
   "cell_type": "code",
   "execution_count": 2,
   "metadata": {
    "collapsed": true
   },
   "outputs": [],
   "source": [
    "# Constants:\n",
    "NUM_OF_REVIEWS = 5000\n",
    "MIN_NUM_REVIEWS_MOVIE = 250\n",
    "MIN_NUM_REVIEWS_PERSON = 10"
   ]
  },
  {
   "cell_type": "code",
   "execution_count": 3,
   "metadata": {
    "collapsed": false
   },
   "outputs": [],
   "source": [
    "# Reading data\n",
    "df = feather.read_dataframe(\"../results/movie_df.feather\")"
   ]
  },
  {
   "cell_type": "markdown",
   "metadata": {},
   "source": [
    "The wrangling done below will only get movies that have reviewed a minimum amount of times. Additionally, only users that have rated a minimum amount of movies will be selected. This was mostly done because if I hadn't, I would often get a lot of obscure movie titles that I haven't heard of before. "
   ]
  },
  {
   "cell_type": "code",
   "execution_count": 4,
   "metadata": {
    "collapsed": false
   },
   "outputs": [
    {
     "data": {
      "text/html": [
       "<div>\n",
       "<table border=\"1\" class=\"dataframe\">\n",
       "  <thead>\n",
       "    <tr style=\"text-align: right;\">\n",
       "      <th></th>\n",
       "      <th>reviewer_id</th>\n",
       "      <th>asin</th>\n",
       "      <th>overall</th>\n",
       "      <th>review_time</th>\n",
       "      <th>title</th>\n",
       "      <th>price</th>\n",
       "    </tr>\n",
       "  </thead>\n",
       "  <tbody>\n",
       "    <tr>\n",
       "      <th>1393425</th>\n",
       "      <td>A328S9RN3U5M68</td>\n",
       "      <td>B00005JMFQ</td>\n",
       "      <td>5.0</td>\n",
       "      <td>1068681600</td>\n",
       "      <td>Love Actually (Widescreen Edition)</td>\n",
       "      <td>13.70</td>\n",
       "    </tr>\n",
       "    <tr>\n",
       "      <th>288400</th>\n",
       "      <td>A1NSHD4YCL5DV3</td>\n",
       "      <td>0792833236</td>\n",
       "      <td>4.0</td>\n",
       "      <td>1063497600</td>\n",
       "      <td>Raging Bull</td>\n",
       "      <td>12.70</td>\n",
       "    </tr>\n",
       "    <tr>\n",
       "      <th>913721</th>\n",
       "      <td>A2R9J5LULVKF6T</td>\n",
       "      <td>6304176287</td>\n",
       "      <td>4.0</td>\n",
       "      <td>998956800</td>\n",
       "      <td>Willy Wonka &amp;amp; Chocolate Factory [VHS]</td>\n",
       "      <td>3.99</td>\n",
       "    </tr>\n",
       "    <tr>\n",
       "      <th>860416</th>\n",
       "      <td>A335GUD1YBS31U</td>\n",
       "      <td>6303617719</td>\n",
       "      <td>5.0</td>\n",
       "      <td>998438400</td>\n",
       "      <td>French Kiss [VHS]</td>\n",
       "      <td>0.99</td>\n",
       "    </tr>\n",
       "    <tr>\n",
       "      <th>1512736</th>\n",
       "      <td>A1TFH5Y9I9M3YN</td>\n",
       "      <td>B00005QCYC</td>\n",
       "      <td>4.0</td>\n",
       "      <td>1005091200</td>\n",
       "      <td>Jurassic Park Trilogy</td>\n",
       "      <td>36.27</td>\n",
       "    </tr>\n",
       "  </tbody>\n",
       "</table>\n",
       "</div>"
      ],
      "text/plain": [
       "            reviewer_id        asin  overall  review_time  \\\n",
       "1393425  A328S9RN3U5M68  B00005JMFQ      5.0   1068681600   \n",
       "288400   A1NSHD4YCL5DV3  0792833236      4.0   1063497600   \n",
       "913721   A2R9J5LULVKF6T  6304176287      4.0    998956800   \n",
       "860416   A335GUD1YBS31U  6303617719      5.0    998438400   \n",
       "1512736  A1TFH5Y9I9M3YN  B00005QCYC      4.0   1005091200   \n",
       "\n",
       "                                             title  price  \n",
       "1393425         Love Actually (Widescreen Edition)  13.70  \n",
       "288400                                 Raging Bull  12.70  \n",
       "913721   Willy Wonka &amp; Chocolate Factory [VHS]   3.99  \n",
       "860416                           French Kiss [VHS]   0.99  \n",
       "1512736                      Jurassic Park Trilogy  36.27  "
      ]
     },
     "execution_count": 4,
     "metadata": {},
     "output_type": "execute_result"
    }
   ],
   "source": [
    "# Find number of reviewers per movie and \n",
    "# the number of movies reviewed by each person\n",
    "n_reviews_movie_df = df.groupby('asin').reviewer_id.nunique()\n",
    "n_reviews_person_df = df.groupby('reviewer_id').asin.nunique()\n",
    "\n",
    "# Get list of movies that have been reviewed\n",
    "# more than MIN_NUM_REVIEWS_MOVIE times and \n",
    "# users that have reviewed more than \n",
    "# MIN_NUM_REVIEWS_PERSON\n",
    "popular_movies = list(n_reviews_movie_df[n_reviews_movie_df > MIN_NUM_REVIEWS_MOVIE].index)\n",
    "critical_people = list(n_reviews_person_df[n_reviews_person_df > MIN_NUM_REVIEWS_PERSON].index)\n",
    "\n",
    "# Filter dataframe to use only popular movies\n",
    "# and critical people:\n",
    "popular_df = df[df['asin'].isin(popular_movies)]\n",
    "popular_df = popular_df[popular_df['reviewer_id'].isin(critical_people)]\n",
    "\n",
    "# Shuffle data:\n",
    "popular_df = shuffle(popular_df, random_state=42)\n",
    "\n",
    "# Peak at data:\n",
    "popular_df.head()"
   ]
  },
  {
   "cell_type": "markdown",
   "metadata": {},
   "source": [
    "Great! We now have a nice little dataframe. It's nice to see that VHS seems to be alive and kicking. "
   ]
  },
  {
   "cell_type": "code",
   "execution_count": 5,
   "metadata": {
    "collapsed": true
   },
   "outputs": [],
   "source": [
    "# Reduce size of dataset (REMOVE LATER):\n",
    "# The main issue occurs below during gradient descent.\n",
    "# np.dot() takes a long time. Perhaps I can use PySpark's\n",
    "# dot product. \n",
    "popular_df = popular_df.head(NUM_OF_REVIEWS)"
   ]
  },
  {
   "cell_type": "markdown",
   "metadata": {},
   "source": [
    "The piece of code is a bit of an embarrassment. This will be mentioned again below, but the main reason for this was for convinence. Later, I will be taking the dot product between two matricies. If I use all of the data, this dot product will take a long time. One solution is to take advantage of distributed computing. Perhaps in my next blog post, I will explore this issue."
   ]
  },
  {
   "cell_type": "code",
   "execution_count": 6,
   "metadata": {
    "collapsed": false
   },
   "outputs": [
    {
     "name": "stdout",
     "output_type": "stream",
     "text": [
      "There are 3560 reviewers\n",
      "There are 1551 products reviewed\n"
     ]
    }
   ],
   "source": [
    "# Only take relevant columns:\n",
    "rating_df = popular_df[['reviewer_id', 'asin', 'overall']]\n",
    "\n",
    "# Obtaining number of reviewers and products reviewed:\n",
    "n_reviewers = len(rating_df.reviewer_id.unique())\n",
    "n_products = len(rating_df.asin.unique())\n",
    "\n",
    "# Print results:\n",
    "print(\"There are\", n_reviewers, \"reviewers\")\n",
    "print(\"There are\", n_products, \"products reviewed\")"
   ]
  },
  {
   "cell_type": "markdown",
   "metadata": {},
   "source": [
    "Great, we have reviewers and movies. FYI, the reason why I am saying \"product\" in my code is because I was previously using other amazon product data sets available [here](http://jmcauley.ucsd.edu/data/amazon/)."
   ]
  },
  {
   "cell_type": "markdown",
   "metadata": {},
   "source": [
    "Next, we are working to construct a matrix where each row is a reviewer and each column is a movie. I initially construct it as a sparse array, which I think is the correct thing to do. Unfortunately, later I simply work with it as a normal dense array. If I were to repeat this exercise, I would have liked to continue to work with it as a sparse matrix. "
   ]
  },
  {
   "cell_type": "code",
   "execution_count": 7,
   "metadata": {
    "collapsed": false
   },
   "outputs": [],
   "source": [
    "# Creating map to map from reviewer id/asin(product id) to a number:\n",
    "reviewer_map = dict(zip(np.unique(rating_df.reviewer_id), list(range(n_reviewers))))\n",
    "product_map = dict(zip(np.unique(rating_df.asin), list(range(n_products))))"
   ]
  },
  {
   "cell_type": "code",
   "execution_count": 8,
   "metadata": {
    "collapsed": false
   },
   "outputs": [],
   "source": [
    "# Obtain numbers(index in sparse matrix) associated with each id:\n",
    "reviewer_index = np.array([reviewer_map[reviewer_id] for reviewer_id in rating_df.reviewer_id])\n",
    "product_index = np.array([product_map[asin] for asin in rating_df.asin])"
   ]
  },
  {
   "cell_type": "code",
   "execution_count": 9,
   "metadata": {
    "collapsed": false
   },
   "outputs": [],
   "source": [
    "# Obtain ratings to be put into sparse matrix:\n",
    "ratings = np.array(rating_df.overall)"
   ]
  },
  {
   "cell_type": "code",
   "execution_count": 10,
   "metadata": {
    "collapsed": false
   },
   "outputs": [],
   "source": [
    "# Create sparse X matrix:\n",
    "X = coo_matrix((ratings, (reviewer_index, product_index)), shape=(n_reviewers, n_products))"
   ]
  },
  {
   "cell_type": "markdown",
   "metadata": {},
   "source": [
    "Great, the sparse matrix `X` has now been constructed. Let's just double check that we did everything right:"
   ]
  },
  {
   "cell_type": "code",
   "execution_count": 11,
   "metadata": {
    "collapsed": false
   },
   "outputs": [
    {
     "data": {
      "text/plain": [
       "5.0"
      ]
     },
     "execution_count": 11,
     "metadata": {},
     "output_type": "execute_result"
    }
   ],
   "source": [
    "# Performing sanity check:\n",
    "person_of_interest = reviewer_map['A328S9RN3U5M68']\n",
    "product_of_interest = product_map['B00005JMFQ']\n",
    "\n",
    "X.toarray()[person_of_interest, product_of_interest]"
   ]
  },
  {
   "cell_type": "markdown",
   "metadata": {},
   "source": [
    "Great, this result makes sense.\n",
    "\n",
    "Now, the rating data is in a sparse matrix where the rows are users and the columns are movies. Note that all values of 0 for ratings are actually missing reviews. Reviewers cannot give something 0 stars. This is because `coo_matrix` by default fills in missing values with 0."
   ]
  },
  {
   "cell_type": "markdown",
   "metadata": {},
   "source": [
    "### Making our first model:\n",
    "\n",
    "Now, let's use gradient descent to make our first model:"
   ]
  },
  {
   "cell_type": "code",
   "execution_count": 15,
   "metadata": {
    "collapsed": false
   },
   "outputs": [],
   "source": [
    "# Set up parameters:\n",
    "n_iters = 1000\n",
    "alpha = 0.01\n",
    "num_latent_features = 2\n",
    "\n",
    "# Using dense array for now:\n",
    "X_array = X.toarray()"
   ]
  },
  {
   "cell_type": "markdown",
   "metadata": {},
   "source": [
    "The code below uses gradient descent to learn the correct values for `U` and `V`. `U` can be thought as an array where each row is associated with a specific person and each column represents some sort of learned preference of theirs. These learned preferences are the number of latent features. `V` can be thought of as an array where each column is associated with a specific movie and the rows are the learned quality of the movie. This learned quality of the movie corresponds to the learned preference of the movie. \n",
    "\n",
    "For example, let's first assume that one of \"learned preference\" happend to be a preference towards scary movies. The \"learned quality\" of the movie would be how scary the movie was. This is further explained in my last blog post. \n",
    "\n",
    "As an additional note, I am performing gradient descent a little differently than I had in my previous blog post. Essentially, these are both the same."
   ]
  },
  {
   "cell_type": "code",
   "execution_count": 16,
   "metadata": {
    "collapsed": false
   },
   "outputs": [
    {
     "name": "stdout",
     "output_type": "stream",
     "text": [
      "Iteration: 0    Cost: 93360.0000001    Rating of interest: 1.90893973813e-10\n",
      "Iteration: 100    Cost: 92540.3338637    Rating of interest: 0.14717131487\n",
      "Iteration: 200    Cost: 92486.3546961    Rating of interest: 1.19057516107\n",
      "Iteration: 300    Cost: 92474.6219165    Rating of interest: 1.96765864765\n",
      "Iteration: 400    Cost: 92472.5455087    Rating of interest: 2.10226001765\n",
      "Iteration: 500    Cost: 92471.4063733    Rating of interest: 2.02517075751\n",
      "Iteration: 600    Cost: 92469.9506994    Rating of interest: 1.8234530529\n",
      "Iteration: 700    Cost: 92467.961488    Rating of interest: 1.51107277851\n",
      "Iteration: 800    Cost: 92465.6479947    Rating of interest: 1.13093953942\n",
      "Iteration: 900    Cost: 92463.4816496    Rating of interest: 0.764126997336\n"
     ]
    }
   ],
   "source": [
    "# Randomly initialize:\n",
    "U = np.random.randn(n_reviewers, num_latent_features) * 1e-5\n",
    "V = np.random.randn(num_latent_features, n_products) * 1e-5\n",
    "\n",
    "# Perform gradient descent:\n",
    "for i in range(n_iters):\n",
    "    # Obtain predictions:\n",
    "    X_hat = np.dot(U, V)     \n",
    "    \n",
    "    if np.isnan(X_hat[person_of_interest, product_of_interest]):\n",
    "        print(\"ERROR\")\n",
    "        break\n",
    "        \n",
    "    # Obtain residual\n",
    "    resid = X_hat - X_array\n",
    "    resid[np.isnan(resid)] = 0\n",
    "    \n",
    "    # Calculate gradients:\n",
    "    dU = np.dot(resid, V.T) \n",
    "    dV = np.dot(U.T, resid)\n",
    "    \n",
    "    # Update values:\n",
    "    U = U - dU*alpha\n",
    "    V = V - dV*alpha\n",
    "    \n",
    "    # Output every 10% to make sure on the right track:\n",
    "    if (i%(n_iters/10) == 0):\n",
    "        print(\"Iteration:\", i, \n",
    "              \"   Cost:\", np.sum(resid**2), \n",
    "              \"   Rating of interest:\", X_hat[person_of_interest, product_of_interest])\n",
    "    \n",
    "X_pred = np.dot(U, V)\n",
    "    "
   ]
  },
  {
   "cell_type": "code",
   "execution_count": 17,
   "metadata": {
    "collapsed": false
   },
   "outputs": [
    {
     "name": "stdout",
     "output_type": "stream",
     "text": [
      "Actual Rating:  5.0\n",
      "Predicted Rating:  0.477522679528\n"
     ]
    }
   ],
   "source": [
    "predicted_val = X_pred[person_of_interest, product_of_interest]\n",
    "actual_val = X_array[person_of_interest, product_of_interest]\n",
    "print(\"Actual Rating: \", actual_val)\n",
    "print(\"Predicted Rating: \", predicted_val)"
   ]
  },
  {
   "cell_type": "markdown",
   "metadata": {},
   "source": [
    "The above prediction is awful. This is because we didn't handle `nan` properly. The algorithm above is trying to account for all the zero values. The \"signal\" is being drowned out. To fix this is simple:"
   ]
  },
  {
   "cell_type": "markdown",
   "metadata": {},
   "source": [
    "### Making our second model:"
   ]
  },
  {
   "cell_type": "code",
   "execution_count": 18,
   "metadata": {
    "collapsed": false
   },
   "outputs": [
    {
     "name": "stdout",
     "output_type": "stream",
     "text": [
      "Iteration: 0    Cost: 93360.0    Rating of interest: -1.06505550792e-10\n",
      "Iteration: 100    Cost: 50902.6127541    Rating of interest: 5.38285985849\n",
      "Iteration: 200    Cost: 7359.64612045    Rating of interest: 4.85884908364\n",
      "Iteration: 300    Cost: 897.066788056    Rating of interest: 4.87233382983\n",
      "Iteration: 400    Cost: 156.58492863    Rating of interest: 4.88973723326\n",
      "Iteration: 500    Cost: 75.6818835324    Rating of interest: 4.91750899441\n",
      "Iteration: 600    Cost: 38.0496747094    Rating of interest: 4.93817080819\n",
      "Iteration: 700    Cost: 13.0631882476    Rating of interest: 4.95164697125\n",
      "Iteration: 800    Cost: 10.1209025019    Rating of interest: 4.96158102444\n",
      "Iteration: 900    Cost: 8.1104596063    Rating of interest: 4.96938531597\n",
      "Actual Rating:  5.0\n",
      "Predicted Rating:  4.97574576552\n"
     ]
    }
   ],
   "source": [
    "# Replacing zeros with nan:\n",
    "X_array[X_array==0] = np.nan\n",
    "\n",
    "# Set up parameters:\n",
    "n_iters = 1000\n",
    "alpha = 0.01\n",
    "num_latent_features = 2\n",
    "\n",
    "# Initialize U and V randomly\n",
    "U = np.random.randn(n_reviewers, num_latent_features) * 1e-5\n",
    "V = np.random.randn(num_latent_features, n_products) * 1e-5\n",
    "\n",
    "# Perform gradient descent:\n",
    "for i in range(n_iters):        \n",
    "    # Obtain predictions:\n",
    "    X_hat = np.dot(U, V)     \n",
    "    \n",
    "    if np.isnan(X_hat[person_of_interest, product_of_interest]):\n",
    "        print(\"ERROR\")\n",
    "        break\n",
    "        \n",
    "    # Obtain residual\n",
    "    resid = X_hat - X_array\n",
    "    resid[np.isnan(resid)] = 0\n",
    "    \n",
    "    # Calculate gradients:\n",
    "    dU = np.dot(resid, V.T) \n",
    "    dV = np.dot(U.T, resid)\n",
    "    \n",
    "    # Update values:\n",
    "    U = U - dU*alpha\n",
    "    V = V - dV*alpha\n",
    "    \n",
    "    # Output every 10% to make sure on the right track:\n",
    "    if (i%(n_iters/10) == 0):\n",
    "        print(\"Iteration:\", i, \n",
    "              \"   Cost:\", np.sum(resid**2), \n",
    "              \"   Rating of interest:\", X_hat[person_of_interest, product_of_interest])\n",
    "    \n",
    "# Make prediction:\n",
    "X_pred = np.dot(U, V)\n",
    "\n",
    "predicted_val = X_pred[person_of_interest, product_of_interest]\n",
    "actual_val = X_array[person_of_interest, product_of_interest]\n",
    "print(\"Actual Rating: \", actual_val)\n",
    "print(\"Predicted Rating: \", predicted_val)"
   ]
  },
  {
   "cell_type": "markdown",
   "metadata": {},
   "source": [
    "This is a huge improvement! Awesome! Next, I will try to do some analysis on these results:"
   ]
  },
  {
   "cell_type": "markdown",
   "metadata": {},
   "source": [
    "### Analysis:\n",
    "\n",
    "One idea that can be done as a result from our model is we can group movies together. We have obtained these \"learned features\", why not use them? So now, I will try to make a plot to visualize the learned features:"
   ]
  },
  {
   "cell_type": "code",
   "execution_count": 19,
   "metadata": {
    "collapsed": false
   },
   "outputs": [],
   "source": [
    "# Let's try to see which products are most similar to each other:\n",
    "param1 = V.T[:,0]\n",
    "param2 = V.T[:,1]"
   ]
  },
  {
   "cell_type": "code",
   "execution_count": 20,
   "metadata": {
    "collapsed": false
   },
   "outputs": [
    {
     "data": {
      "image/png": "[encoded data removed]",
      "text/plain": [
       "<matplotlib.figure.Figure at 0x124785588>"
      ]
     },
     "metadata": {},
     "output_type": "display_data"
    }
   ],
   "source": [
    "# Plotting the products:\n",
    "plt.plot(param1, param2, 'ro')\n",
    "plt.show()"
   ]
  },
  {
   "cell_type": "markdown",
   "metadata": {},
   "source": [
    "Interesting, when using 2 latent-features we seem to have movies that form a circular shape! I am not sure why, but it looks interesting! Now, let's try to cluster them together to see which movies are most similar to each other:"
   ]
  },
  {
   "cell_type": "code",
   "execution_count": 21,
   "metadata": {
    "collapsed": false
   },
   "outputs": [
    {
     "data": {
      "image/png": "[encoded data removed]",
      "text/plain": [
       "<matplotlib.figure.Figure at 0x123ffa860>"
      ]
     },
     "metadata": {},
     "output_type": "display_data"
    }
   ],
   "source": [
    "# Performing k-means:\n",
    "kmeans = KMeans(n_clusters=10, random_state=0).fit(V.T)\n",
    "groups = kmeans.labels_\n",
    "\n",
    "# Making plot:\n",
    "plt.scatter(param1, param2, c=groups)\n",
    "plt.show()"
   ]
  },
  {
   "cell_type": "markdown",
   "metadata": {},
   "source": [
    "Looks like a sprinkled donut. It would be nice to see concrete movie titles associated with each of these groups. This is done below:"
   ]
  },
  {
   "cell_type": "code",
   "execution_count": 22,
   "metadata": {
    "collapsed": false
   },
   "outputs": [],
   "source": [
    "# Making dictionary connecting asin to with title and group:\n",
    "asin = np.unique(popular_df.asin)\n",
    "product_dictionary = dict(zip(popular_df.asin, popular_df.title))\n",
    "product_results = pd.DataFrame({'asin': asin})\n",
    "product_results['title'] = [product_dictionary[x] for x in product_results.asin]\n",
    "product_results['group'] = groups"
   ]
  },
  {
   "cell_type": "code",
   "execution_count": 23,
   "metadata": {
    "collapsed": false
   },
   "outputs": [
    {
     "data": {
      "text/html": [
       "<div>\n",
       "<table border=\"1\" class=\"dataframe\">\n",
       "  <thead>\n",
       "    <tr style=\"text-align: right;\">\n",
       "      <th></th>\n",
       "      <th>asin</th>\n",
       "      <th>title</th>\n",
       "      <th>group</th>\n",
       "    </tr>\n",
       "  </thead>\n",
       "  <tbody>\n",
       "    <tr>\n",
       "      <th>12</th>\n",
       "      <td>0767802624</td>\n",
       "      <td>Men in Black (Collector's Series)</td>\n",
       "      <td>0</td>\n",
       "    </tr>\n",
       "    <tr>\n",
       "      <th>28</th>\n",
       "      <td>0767817478</td>\n",
       "      <td>Godzilla</td>\n",
       "      <td>0</td>\n",
       "    </tr>\n",
       "    <tr>\n",
       "      <th>35</th>\n",
       "      <td>0767825411</td>\n",
       "      <td>Ghostbusters [VHS]</td>\n",
       "      <td>0</td>\n",
       "    </tr>\n",
       "    <tr>\n",
       "      <th>43</th>\n",
       "      <td>0767853636</td>\n",
       "      <td>Annie (Widescreen Edition)</td>\n",
       "      <td>0</td>\n",
       "    </tr>\n",
       "    <tr>\n",
       "      <th>51</th>\n",
       "      <td>0780619609</td>\n",
       "      <td>Teenage Mutant Ninja Turtles II - The Secret o...</td>\n",
       "      <td>0</td>\n",
       "    </tr>\n",
       "  </tbody>\n",
       "</table>\n",
       "</div>"
      ],
      "text/plain": [
       "          asin                                              title  group\n",
       "12  0767802624                  Men in Black (Collector's Series)      0\n",
       "28  0767817478                                           Godzilla      0\n",
       "35  0767825411                                 Ghostbusters [VHS]      0\n",
       "43  0767853636                         Annie (Widescreen Edition)      0\n",
       "51  0780619609  Teenage Mutant Ninja Turtles II - The Secret o...      0"
      ]
     },
     "execution_count": 23,
     "metadata": {},
     "output_type": "execute_result"
    }
   ],
   "source": [
    "# Showing group 0:\n",
    "product_results[product_results.group == 0].head()"
   ]
  },
  {
   "cell_type": "markdown",
   "metadata": {},
   "source": [
    "Maybe this group is associated with movies that are action-y?"
   ]
  },
  {
   "cell_type": "code",
   "execution_count": 24,
   "metadata": {
    "collapsed": false
   },
   "outputs": [
    {
     "data": {
      "text/html": [
       "<div>\n",
       "<table border=\"1\" class=\"dataframe\">\n",
       "  <thead>\n",
       "    <tr style=\"text-align: right;\">\n",
       "      <th></th>\n",
       "      <th>asin</th>\n",
       "      <th>title</th>\n",
       "      <th>group</th>\n",
       "    </tr>\n",
       "  </thead>\n",
       "  <tbody>\n",
       "    <tr>\n",
       "      <th>3</th>\n",
       "      <td>0767002652</td>\n",
       "      <td>Upstairs Downstairs - The Premiere Season [VHS]</td>\n",
       "      <td>1</td>\n",
       "    </tr>\n",
       "    <tr>\n",
       "      <th>4</th>\n",
       "      <td>0767087372</td>\n",
       "      <td>Upstairs Downstairs Collector's Edition</td>\n",
       "      <td>1</td>\n",
       "    </tr>\n",
       "    <tr>\n",
       "      <th>6</th>\n",
       "      <td>0767736680</td>\n",
       "      <td>Home Alone/Home Alone 2 Combo Pack [VHS]</td>\n",
       "      <td>1</td>\n",
       "    </tr>\n",
       "    <tr>\n",
       "      <th>7</th>\n",
       "      <td>076780192X</td>\n",
       "      <td>Close Encounters of the Third Kind (Widescreen...</td>\n",
       "      <td>1</td>\n",
       "    </tr>\n",
       "    <tr>\n",
       "      <th>21</th>\n",
       "      <td>0767809254</td>\n",
       "      <td>Steel Magnolias [VHS]</td>\n",
       "      <td>1</td>\n",
       "    </tr>\n",
       "  </tbody>\n",
       "</table>\n",
       "</div>"
      ],
      "text/plain": [
       "          asin                                              title  group\n",
       "3   0767002652    Upstairs Downstairs - The Premiere Season [VHS]      1\n",
       "4   0767087372            Upstairs Downstairs Collector's Edition      1\n",
       "6   0767736680           Home Alone/Home Alone 2 Combo Pack [VHS]      1\n",
       "7   076780192X  Close Encounters of the Third Kind (Widescreen...      1\n",
       "21  0767809254                              Steel Magnolias [VHS]      1"
      ]
     },
     "execution_count": 24,
     "metadata": {},
     "output_type": "execute_result"
    }
   ],
   "source": [
    "# Showing group 1:\n",
    "product_results[product_results.group == 1].head()"
   ]
  },
  {
   "cell_type": "markdown",
   "metadata": {},
   "source": [
    "Not sure what this group is exactly, but I'm happy that it placed the two Upstairs Downstairs titles in the same group!"
   ]
  },
  {
   "cell_type": "code",
   "execution_count": 25,
   "metadata": {
    "collapsed": false
   },
   "outputs": [
    {
     "data": {
      "text/html": [
       "<div>\n",
       "<table border=\"1\" class=\"dataframe\">\n",
       "  <thead>\n",
       "    <tr style=\"text-align: right;\">\n",
       "      <th></th>\n",
       "      <th>asin</th>\n",
       "      <th>title</th>\n",
       "      <th>group</th>\n",
       "    </tr>\n",
       "  </thead>\n",
       "  <tbody>\n",
       "    <tr>\n",
       "      <th>10</th>\n",
       "      <td>0767802535</td>\n",
       "      <td>Big Night</td>\n",
       "      <td>2</td>\n",
       "    </tr>\n",
       "    <tr>\n",
       "      <th>15</th>\n",
       "      <td>0767803434</td>\n",
       "      <td>Air Force One</td>\n",
       "      <td>2</td>\n",
       "    </tr>\n",
       "    <tr>\n",
       "      <th>33</th>\n",
       "      <td>0767824407</td>\n",
       "      <td>Immortal Beloved [VHS]</td>\n",
       "      <td>2</td>\n",
       "    </tr>\n",
       "    <tr>\n",
       "      <th>40</th>\n",
       "      <td>0767839129</td>\n",
       "      <td>The Messenger: The Story of Joan of Arc [VHS]</td>\n",
       "      <td>2</td>\n",
       "    </tr>\n",
       "    <tr>\n",
       "      <th>42</th>\n",
       "      <td>0767851013</td>\n",
       "      <td>Little Women (Collector's Series)</td>\n",
       "      <td>2</td>\n",
       "    </tr>\n",
       "  </tbody>\n",
       "</table>\n",
       "</div>"
      ],
      "text/plain": [
       "          asin                                          title  group\n",
       "10  0767802535                                      Big Night      2\n",
       "15  0767803434                                  Air Force One      2\n",
       "33  0767824407                         Immortal Beloved [VHS]      2\n",
       "40  0767839129  The Messenger: The Story of Joan of Arc [VHS]      2\n",
       "42  0767851013              Little Women (Collector's Series)      2"
      ]
     },
     "execution_count": 25,
     "metadata": {},
     "output_type": "execute_result"
    }
   ],
   "source": [
    "# Showing group 2:\n",
    "product_results[product_results.group == 2].head()"
   ]
  },
  {
   "cell_type": "markdown",
   "metadata": {},
   "source": [
    "I really have no idea as to what is occurring in this group"
   ]
  },
  {
   "cell_type": "markdown",
   "metadata": {},
   "source": [
    "### Closing Notes:\n",
    "\n",
    "Unfortunately, these groups don't seem to make immediate sense. Honestly, the trends within groups that seem to be present are probably by luck. It would be nice to see groups of movies that had an obvious theme going on such as genre or time when released. Perhaps in the future, we can make better groups if we use more latent features (we used 2 in this case). \n",
    "\n",
    "In future blog posts I plan to:\n",
    "* Scale up to use more data\n",
    "* Create a twitter bot that may be able to identify which movies are trending on social media\n",
    "    * This can be used to promote movies that are trending to people that we predicted would give it a high rating. \n",
    "    * The same idea can be applied to Amazon's \"Toys and Games\" data set. My thought that it would be able to promote something like a fidget spinner to people which seems to be all the rage now a days. \n",
    "* Create better models be adding more features to our dataset. This can easily be done by altering our gradient descent loop. \n",
    "\n",
    "Please let me know if you have any other cool ideas/questions/suggestions/**found mistakes**! My e-mail is andrewlim90@gmail.com"
   ]
  }
 ],
 "metadata": {
  "anaconda-cloud": {},
  "kernelspec": {
   "display_name": "Python [conda root]",
   "language": "python",
   "name": "conda-root-py"
  },
  "language_info": {
   "codemirror_mode": {
    "name": "ipython",
    "version": 3
   },
   "file_extension": ".py",
   "mimetype": "text/x-python",
   "name": "python",
   "nbconvert_exporter": "python",
   "pygments_lexer": "ipython3",
   "version": "3.5.3"
  }
 },
 "nbformat": 4,
 "nbformat_minor": 2
}
